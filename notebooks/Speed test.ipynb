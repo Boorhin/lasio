{
 "cells": [
  {
   "cell_type": "code",
   "execution_count": 1,
   "id": "junior-affairs",
   "metadata": {},
   "outputs": [],
   "source": [
    "import lasio.examples"
   ]
  },
  {
   "cell_type": "markdown",
   "id": "mysterious-gazette",
   "metadata": {},
   "source": [
    "# Speed"
   ]
  },
  {
   "cell_type": "code",
   "execution_count": 3,
   "id": "paperback-service",
   "metadata": {},
   "outputs": [
    {
     "name": "stdout",
     "output_type": "stream",
     "text": [
      "245 ms ± 52.1 ms per loop (mean ± std. dev. of 7 runs, 15 loops each)\n"
     ]
    }
   ],
   "source": [
    "%%timeit  -n 15\n",
    "\n",
    "lasio.examples.open(\"6038187_v1.2.las\")"
   ]
  },
  {
   "cell_type": "markdown",
   "id": "fundamental-period",
   "metadata": {},
   "source": [
    "prior to trying to fix #217:        6038187_v1.2.las = 321 ms ± 34.8 ms per loop (mean ± std. dev. of 7 runs, 15 loops each)\n",
    "read-quoted-strings branch:         6038187_v1.2.las = 378 ms ± 37.9 ms per loop (mean ± std. dev. of 7 runs, 15 loops each)\n",
    "dataframe-by-generator branch:      6038187_v1.2.las = 245 ms ± 52.1 ms per loop (mean ± std. dev. of 7 runs, 15 loops each)"
   ]
  },
  {
   "cell_type": "markdown",
   "id": "hidden-suffering",
   "metadata": {},
   "source": [
    "# Memory"
   ]
  },
  {
   "cell_type": "code",
   "execution_count": 11,
   "id": "israeli-powder",
   "metadata": {},
   "outputs": [],
   "source": [
    "import pickle"
   ]
  },
  {
   "cell_type": "code",
   "execution_count": 12,
   "id": "civic-aluminum",
   "metadata": {},
   "outputs": [
    {
     "data": {
      "text/plain": [
       "4192151"
      ]
     },
     "execution_count": 12,
     "metadata": {},
     "output_type": "execute_result"
    }
   ],
   "source": [
    "las = lasio.examples.open(\"logging_levels.las\")\n",
    "len(pickle.dumps(las))"
   ]
  },
  {
   "cell_type": "code",
   "execution_count": 13,
   "id": "loaded-cleveland",
   "metadata": {},
   "outputs": [
    {
     "data": {
      "text/plain": [
       "198983"
      ]
     },
     "execution_count": 13,
     "metadata": {},
     "output_type": "execute_result"
    }
   ],
   "source": [
    "las = lasio.examples.open(\"6038187_v1.2.las\")\n",
    "len(pickle.dumps(las))"
   ]
  },
  {
   "cell_type": "code",
   "execution_count": null,
   "id": "heard-training",
   "metadata": {},
   "outputs": [],
   "source": []
  }
 ],
 "metadata": {
  "kernelspec": {
   "display_name": "Python 3",
   "language": "python",
   "name": "python3"
  },
  "language_info": {
   "codemirror_mode": {
    "name": "ipython",
    "version": 3
   },
   "file_extension": ".py",
   "mimetype": "text/x-python",
   "name": "python",
   "nbconvert_exporter": "python",
   "pygments_lexer": "ipython3",
   "version": "3.9.1"
  }
 },
 "nbformat": 4,
 "nbformat_minor": 5
}
